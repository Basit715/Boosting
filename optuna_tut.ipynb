{
 "cells": [
  {
   "cell_type": "code",
   "execution_count": 2,
   "metadata": {},
   "outputs": [],
   "source": [
    "import seaborn as sns\n",
    "import pandas as pd\n"
   ]
  },
  {
   "cell_type": "code",
   "execution_count": 3,
   "metadata": {},
   "outputs": [],
   "source": [
    "healthexp = sns.load_dataset('healthexp')"
   ]
  },
  {
   "cell_type": "code",
   "execution_count": 5,
   "metadata": {},
   "outputs": [
    {
     "data": {
      "text/html": [
       "<div>\n",
       "<style scoped>\n",
       "    .dataframe tbody tr th:only-of-type {\n",
       "        vertical-align: middle;\n",
       "    }\n",
       "\n",
       "    .dataframe tbody tr th {\n",
       "        vertical-align: top;\n",
       "    }\n",
       "\n",
       "    .dataframe thead th {\n",
       "        text-align: right;\n",
       "    }\n",
       "</style>\n",
       "<table border=\"1\" class=\"dataframe\">\n",
       "  <thead>\n",
       "    <tr style=\"text-align: right;\">\n",
       "      <th></th>\n",
       "      <th>Year</th>\n",
       "      <th>Country</th>\n",
       "      <th>Spending_USD</th>\n",
       "      <th>Life_Expectancy</th>\n",
       "    </tr>\n",
       "  </thead>\n",
       "  <tbody>\n",
       "    <tr>\n",
       "      <th>0</th>\n",
       "      <td>1970</td>\n",
       "      <td>Germany</td>\n",
       "      <td>252.311</td>\n",
       "      <td>70.6</td>\n",
       "    </tr>\n",
       "    <tr>\n",
       "      <th>1</th>\n",
       "      <td>1970</td>\n",
       "      <td>France</td>\n",
       "      <td>192.143</td>\n",
       "      <td>72.2</td>\n",
       "    </tr>\n",
       "    <tr>\n",
       "      <th>2</th>\n",
       "      <td>1970</td>\n",
       "      <td>Great Britain</td>\n",
       "      <td>123.993</td>\n",
       "      <td>71.9</td>\n",
       "    </tr>\n",
       "    <tr>\n",
       "      <th>3</th>\n",
       "      <td>1970</td>\n",
       "      <td>Japan</td>\n",
       "      <td>150.437</td>\n",
       "      <td>72.0</td>\n",
       "    </tr>\n",
       "    <tr>\n",
       "      <th>4</th>\n",
       "      <td>1970</td>\n",
       "      <td>USA</td>\n",
       "      <td>326.961</td>\n",
       "      <td>70.9</td>\n",
       "    </tr>\n",
       "  </tbody>\n",
       "</table>\n",
       "</div>"
      ],
      "text/plain": [
       "   Year        Country  Spending_USD  Life_Expectancy\n",
       "0  1970        Germany       252.311             70.6\n",
       "1  1970         France       192.143             72.2\n",
       "2  1970  Great Britain       123.993             71.9\n",
       "3  1970          Japan       150.437             72.0\n",
       "4  1970            USA       326.961             70.9"
      ]
     },
     "execution_count": 5,
     "metadata": {},
     "output_type": "execute_result"
    }
   ],
   "source": [
    "healthexp.head()"
   ]
  },
  {
   "cell_type": "code",
   "execution_count": 7,
   "metadata": {},
   "outputs": [],
   "source": [
    "healthexp = pd.get_dummies(healthexp)"
   ]
  },
  {
   "cell_type": "code",
   "execution_count": 8,
   "metadata": {},
   "outputs": [
    {
     "data": {
      "text/html": [
       "<div>\n",
       "<style scoped>\n",
       "    .dataframe tbody tr th:only-of-type {\n",
       "        vertical-align: middle;\n",
       "    }\n",
       "\n",
       "    .dataframe tbody tr th {\n",
       "        vertical-align: top;\n",
       "    }\n",
       "\n",
       "    .dataframe thead th {\n",
       "        text-align: right;\n",
       "    }\n",
       "</style>\n",
       "<table border=\"1\" class=\"dataframe\">\n",
       "  <thead>\n",
       "    <tr style=\"text-align: right;\">\n",
       "      <th></th>\n",
       "      <th>Year</th>\n",
       "      <th>Spending_USD</th>\n",
       "      <th>Life_Expectancy</th>\n",
       "      <th>Country_Canada</th>\n",
       "      <th>Country_France</th>\n",
       "      <th>Country_Germany</th>\n",
       "      <th>Country_Great Britain</th>\n",
       "      <th>Country_Japan</th>\n",
       "      <th>Country_USA</th>\n",
       "    </tr>\n",
       "  </thead>\n",
       "  <tbody>\n",
       "    <tr>\n",
       "      <th>0</th>\n",
       "      <td>1970</td>\n",
       "      <td>252.311</td>\n",
       "      <td>70.6</td>\n",
       "      <td>False</td>\n",
       "      <td>False</td>\n",
       "      <td>True</td>\n",
       "      <td>False</td>\n",
       "      <td>False</td>\n",
       "      <td>False</td>\n",
       "    </tr>\n",
       "    <tr>\n",
       "      <th>1</th>\n",
       "      <td>1970</td>\n",
       "      <td>192.143</td>\n",
       "      <td>72.2</td>\n",
       "      <td>False</td>\n",
       "      <td>True</td>\n",
       "      <td>False</td>\n",
       "      <td>False</td>\n",
       "      <td>False</td>\n",
       "      <td>False</td>\n",
       "    </tr>\n",
       "    <tr>\n",
       "      <th>2</th>\n",
       "      <td>1970</td>\n",
       "      <td>123.993</td>\n",
       "      <td>71.9</td>\n",
       "      <td>False</td>\n",
       "      <td>False</td>\n",
       "      <td>False</td>\n",
       "      <td>True</td>\n",
       "      <td>False</td>\n",
       "      <td>False</td>\n",
       "    </tr>\n",
       "    <tr>\n",
       "      <th>3</th>\n",
       "      <td>1970</td>\n",
       "      <td>150.437</td>\n",
       "      <td>72.0</td>\n",
       "      <td>False</td>\n",
       "      <td>False</td>\n",
       "      <td>False</td>\n",
       "      <td>False</td>\n",
       "      <td>True</td>\n",
       "      <td>False</td>\n",
       "    </tr>\n",
       "    <tr>\n",
       "      <th>4</th>\n",
       "      <td>1970</td>\n",
       "      <td>326.961</td>\n",
       "      <td>70.9</td>\n",
       "      <td>False</td>\n",
       "      <td>False</td>\n",
       "      <td>False</td>\n",
       "      <td>False</td>\n",
       "      <td>False</td>\n",
       "      <td>True</td>\n",
       "    </tr>\n",
       "  </tbody>\n",
       "</table>\n",
       "</div>"
      ],
      "text/plain": [
       "   Year  Spending_USD  Life_Expectancy  Country_Canada  Country_France  \\\n",
       "0  1970       252.311             70.6           False           False   \n",
       "1  1970       192.143             72.2           False            True   \n",
       "2  1970       123.993             71.9           False           False   \n",
       "3  1970       150.437             72.0           False           False   \n",
       "4  1970       326.961             70.9           False           False   \n",
       "\n",
       "   Country_Germany  Country_Great Britain  Country_Japan  Country_USA  \n",
       "0             True                  False          False        False  \n",
       "1            False                  False          False        False  \n",
       "2            False                   True          False        False  \n",
       "3            False                  False           True        False  \n",
       "4            False                  False          False         True  "
      ]
     },
     "execution_count": 8,
     "metadata": {},
     "output_type": "execute_result"
    }
   ],
   "source": [
    "healthexp.head()"
   ]
  },
  {
   "cell_type": "code",
   "execution_count": 10,
   "metadata": {},
   "outputs": [],
   "source": [
    "x = healthexp.drop(columns=['Life_Expectancy'], axis=1)"
   ]
  },
  {
   "cell_type": "code",
   "execution_count": 13,
   "metadata": {},
   "outputs": [],
   "source": [
    "y = healthexp['Life_Expectancy']"
   ]
  },
  {
   "cell_type": "code",
   "execution_count": 15,
   "metadata": {},
   "outputs": [],
   "source": [
    "from sklearn.model_selection import train_test_split"
   ]
  },
  {
   "cell_type": "code",
   "execution_count": 16,
   "metadata": {},
   "outputs": [],
   "source": [
    "x_train,x_test,y_train,y_test = train_test_split(x,y,test_size=0.20,random_state=42)"
   ]
  },
  {
   "cell_type": "code",
   "execution_count": 17,
   "metadata": {},
   "outputs": [],
   "source": [
    "from sklearn.ensemble import RandomForestRegressor"
   ]
  },
  {
   "cell_type": "code",
   "execution_count": 18,
   "metadata": {},
   "outputs": [],
   "source": [
    "rfr = RandomForestRegressor(random_state=34)"
   ]
  },
  {
   "cell_type": "code",
   "execution_count": 19,
   "metadata": {},
   "outputs": [
    {
     "data": {
      "text/html": [
       "<style>#sk-container-id-1 {color: black;}#sk-container-id-1 pre{padding: 0;}#sk-container-id-1 div.sk-toggleable {background-color: white;}#sk-container-id-1 label.sk-toggleable__label {cursor: pointer;display: block;width: 100%;margin-bottom: 0;padding: 0.3em;box-sizing: border-box;text-align: center;}#sk-container-id-1 label.sk-toggleable__label-arrow:before {content: \"▸\";float: left;margin-right: 0.25em;color: #696969;}#sk-container-id-1 label.sk-toggleable__label-arrow:hover:before {color: black;}#sk-container-id-1 div.sk-estimator:hover label.sk-toggleable__label-arrow:before {color: black;}#sk-container-id-1 div.sk-toggleable__content {max-height: 0;max-width: 0;overflow: hidden;text-align: left;background-color: #f0f8ff;}#sk-container-id-1 div.sk-toggleable__content pre {margin: 0.2em;color: black;border-radius: 0.25em;background-color: #f0f8ff;}#sk-container-id-1 input.sk-toggleable__control:checked~div.sk-toggleable__content {max-height: 200px;max-width: 100%;overflow: auto;}#sk-container-id-1 input.sk-toggleable__control:checked~label.sk-toggleable__label-arrow:before {content: \"▾\";}#sk-container-id-1 div.sk-estimator input.sk-toggleable__control:checked~label.sk-toggleable__label {background-color: #d4ebff;}#sk-container-id-1 div.sk-label input.sk-toggleable__control:checked~label.sk-toggleable__label {background-color: #d4ebff;}#sk-container-id-1 input.sk-hidden--visually {border: 0;clip: rect(1px 1px 1px 1px);clip: rect(1px, 1px, 1px, 1px);height: 1px;margin: -1px;overflow: hidden;padding: 0;position: absolute;width: 1px;}#sk-container-id-1 div.sk-estimator {font-family: monospace;background-color: #f0f8ff;border: 1px dotted black;border-radius: 0.25em;box-sizing: border-box;margin-bottom: 0.5em;}#sk-container-id-1 div.sk-estimator:hover {background-color: #d4ebff;}#sk-container-id-1 div.sk-parallel-item::after {content: \"\";width: 100%;border-bottom: 1px solid gray;flex-grow: 1;}#sk-container-id-1 div.sk-label:hover label.sk-toggleable__label {background-color: #d4ebff;}#sk-container-id-1 div.sk-serial::before {content: \"\";position: absolute;border-left: 1px solid gray;box-sizing: border-box;top: 0;bottom: 0;left: 50%;z-index: 0;}#sk-container-id-1 div.sk-serial {display: flex;flex-direction: column;align-items: center;background-color: white;padding-right: 0.2em;padding-left: 0.2em;position: relative;}#sk-container-id-1 div.sk-item {position: relative;z-index: 1;}#sk-container-id-1 div.sk-parallel {display: flex;align-items: stretch;justify-content: center;background-color: white;position: relative;}#sk-container-id-1 div.sk-item::before, #sk-container-id-1 div.sk-parallel-item::before {content: \"\";position: absolute;border-left: 1px solid gray;box-sizing: border-box;top: 0;bottom: 0;left: 50%;z-index: -1;}#sk-container-id-1 div.sk-parallel-item {display: flex;flex-direction: column;z-index: 1;position: relative;background-color: white;}#sk-container-id-1 div.sk-parallel-item:first-child::after {align-self: flex-end;width: 50%;}#sk-container-id-1 div.sk-parallel-item:last-child::after {align-self: flex-start;width: 50%;}#sk-container-id-1 div.sk-parallel-item:only-child::after {width: 0;}#sk-container-id-1 div.sk-dashed-wrapped {border: 1px dashed gray;margin: 0 0.4em 0.5em 0.4em;box-sizing: border-box;padding-bottom: 0.4em;background-color: white;}#sk-container-id-1 div.sk-label label {font-family: monospace;font-weight: bold;display: inline-block;line-height: 1.2em;}#sk-container-id-1 div.sk-label-container {text-align: center;}#sk-container-id-1 div.sk-container {/* jupyter's `normalize.less` sets `[hidden] { display: none; }` but bootstrap.min.css set `[hidden] { display: none !important; }` so we also need the `!important` here to be able to override the default hidden behavior on the sphinx rendered scikit-learn.org. See: https://github.com/scikit-learn/scikit-learn/issues/21755 */display: inline-block !important;position: relative;}#sk-container-id-1 div.sk-text-repr-fallback {display: none;}</style><div id=\"sk-container-id-1\" class=\"sk-top-container\"><div class=\"sk-text-repr-fallback\"><pre>RandomForestRegressor(random_state=34)</pre><b>In a Jupyter environment, please rerun this cell to show the HTML representation or trust the notebook. <br />On GitHub, the HTML representation is unable to render, please try loading this page with nbviewer.org.</b></div><div class=\"sk-container\" hidden><div class=\"sk-item\"><div class=\"sk-estimator sk-toggleable\"><input class=\"sk-toggleable__control sk-hidden--visually\" id=\"sk-estimator-id-1\" type=\"checkbox\" checked><label for=\"sk-estimator-id-1\" class=\"sk-toggleable__label sk-toggleable__label-arrow\">RandomForestRegressor</label><div class=\"sk-toggleable__content\"><pre>RandomForestRegressor(random_state=34)</pre></div></div></div></div></div>"
      ],
      "text/plain": [
       "RandomForestRegressor(random_state=34)"
      ]
     },
     "execution_count": 19,
     "metadata": {},
     "output_type": "execute_result"
    }
   ],
   "source": [
    "rfr.fit(x_train,y_train)"
   ]
  },
  {
   "cell_type": "code",
   "execution_count": 20,
   "metadata": {},
   "outputs": [],
   "source": [
    "y_pred = rfr.predict(x_test)"
   ]
  },
  {
   "cell_type": "code",
   "execution_count": 21,
   "metadata": {},
   "outputs": [],
   "source": [
    "from sklearn.metrics import mean_absolute_error,mean_squared_error,r2_score"
   ]
  },
  {
   "cell_type": "code",
   "execution_count": 22,
   "metadata": {},
   "outputs": [
    {
     "data": {
      "text/plain": [
       "0.27123636363635395"
      ]
     },
     "execution_count": 22,
     "metadata": {},
     "output_type": "execute_result"
    }
   ],
   "source": [
    "mean_absolute_error(y_test,y_pred)"
   ]
  },
  {
   "cell_type": "code",
   "execution_count": 23,
   "metadata": {},
   "outputs": [
    {
     "data": {
      "text/plain": [
       "0.11941941818180976"
      ]
     },
     "execution_count": 23,
     "metadata": {},
     "output_type": "execute_result"
    }
   ],
   "source": [
    "mean_squared_error(y_test,y_pred)"
   ]
  },
  {
   "cell_type": "code",
   "execution_count": 24,
   "metadata": {},
   "outputs": [
    {
     "data": {
      "text/plain": [
       "0.990218403745801"
      ]
     },
     "execution_count": 24,
     "metadata": {},
     "output_type": "execute_result"
    }
   ],
   "source": [
    "r2_score(y_test,y_pred)"
   ]
  },
  {
   "cell_type": "markdown",
   "metadata": {},
   "source": [
    "# optuna hyperparameter tuning "
   ]
  },
  {
   "cell_type": "code",
   "execution_count": 25,
   "metadata": {},
   "outputs": [
    {
     "name": "stderr",
     "output_type": "stream",
     "text": [
      "e:\\Boosting\\env\\lib\\site-packages\\tqdm\\auto.py:21: TqdmWarning: IProgress not found. Please update jupyter and ipywidgets. See https://ipywidgets.readthedocs.io/en/stable/user_install.html\n",
      "  from .autonotebook import tqdm as notebook_tqdm\n"
     ]
    }
   ],
   "source": [
    "import optuna"
   ]
  },
  {
   "cell_type": "code",
   "execution_count": 26,
   "metadata": {},
   "outputs": [],
   "source": [
    "from sklearn.model_selection import cross_val_score"
   ]
  },
  {
   "cell_type": "code",
   "execution_count": 39,
   "metadata": {},
   "outputs": [],
   "source": [
    "def objective(trial):\n",
    "     n_estimators = trial.suggest_int('n_estimators', 100,1000)\n",
    "     max_depth = trial.suggest_int('max_depth', 10,50)\n",
    "     min_samples_split = trial.suggest_int('min_samples_split', 2,32)\n",
    "     min_samples_leaf = trial.suggest_int('min_samples_leaf', 1,32)\n",
    "     \n",
    "     \n",
    "     model = RandomForestRegressor(n_estimators=n_estimators, \n",
    "                                  max_depth = max_depth, \n",
    "                                 min_samples_split = min_samples_split,\n",
    "                                min_samples_leaf = min_samples_leaf )\n",
    "     \n",
    "     score = cross_val_score(model, x_train,y_train,cv=5, scoring='neg_mean_squared_error', n_jobs=-1).mean()\n",
    "     return score"
   ]
  },
  {
   "cell_type": "code",
   "execution_count": 40,
   "metadata": {},
   "outputs": [
    {
     "name": "stderr",
     "output_type": "stream",
     "text": [
      "[I 2024-11-18 11:56:41,895] A new study created in memory with name: no-name-d1d89b53-80d5-4917-bc74-4e79d6707363\n"
     ]
    }
   ],
   "source": [
    "study = optuna.create_study()"
   ]
  },
  {
   "cell_type": "code",
   "execution_count": 41,
   "metadata": {},
   "outputs": [
    {
     "name": "stderr",
     "output_type": "stream",
     "text": [
      "[I 2024-11-18 11:56:57,935] Trial 0 finished with value: -2.5221402441587992 and parameters: {'n_estimators': 479, 'max_depth': 46, 'min_samples_split': 23, 'min_samples_leaf': 24}. Best is trial 0 with value: -2.5221402441587992.\n",
      "[I 2024-11-18 11:56:59,246] Trial 1 finished with value: -2.9364949078447227 and parameters: {'n_estimators': 201, 'max_depth': 42, 'min_samples_split': 31, 'min_samples_leaf': 28}. Best is trial 1 with value: -2.9364949078447227.\n",
      "[I 2024-11-18 11:57:04,226] Trial 2 finished with value: -2.101435432475344 and parameters: {'n_estimators': 736, 'max_depth': 11, 'min_samples_split': 29, 'min_samples_leaf': 13}. Best is trial 1 with value: -2.9364949078447227.\n",
      "[I 2024-11-18 11:57:06,943] Trial 3 finished with value: -2.9313904784545897 and parameters: {'n_estimators': 435, 'max_depth': 38, 'min_samples_split': 13, 'min_samples_leaf': 28}. Best is trial 1 with value: -2.9364949078447227.\n",
      "[I 2024-11-18 11:57:11,802] Trial 4 finished with value: -1.4422972239808816 and parameters: {'n_estimators': 698, 'max_depth': 42, 'min_samples_split': 3, 'min_samples_leaf': 9}. Best is trial 1 with value: -2.9364949078447227.\n",
      "[I 2024-11-18 11:57:17,562] Trial 5 finished with value: -2.0449276593547627 and parameters: {'n_estimators': 715, 'max_depth': 13, 'min_samples_split': 10, 'min_samples_leaf': 13}. Best is trial 1 with value: -2.9364949078447227.\n",
      "[I 2024-11-18 11:57:28,164] Trial 6 finished with value: -0.6971127606036304 and parameters: {'n_estimators': 710, 'max_depth': 44, 'min_samples_split': 5, 'min_samples_leaf': 5}. Best is trial 1 with value: -2.9364949078447227.\n",
      "[I 2024-11-18 11:57:34,475] Trial 7 finished with value: -1.0716354873020495 and parameters: {'n_estimators': 790, 'max_depth': 31, 'min_samples_split': 13, 'min_samples_leaf': 7}. Best is trial 1 with value: -2.9364949078447227.\n",
      "[I 2024-11-18 11:57:37,159] Trial 8 finished with value: -1.877979050717953 and parameters: {'n_estimators': 365, 'max_depth': 21, 'min_samples_split': 28, 'min_samples_leaf': 11}. Best is trial 1 with value: -2.9364949078447227.\n",
      "[I 2024-11-18 11:57:38,461] Trial 9 finished with value: -0.5785723330624427 and parameters: {'n_estimators': 138, 'max_depth': 35, 'min_samples_split': 15, 'min_samples_leaf': 1}. Best is trial 1 with value: -2.9364949078447227.\n",
      "[I 2024-11-18 11:57:39,467] Trial 10 finished with value: -3.4507444538693823 and parameters: {'n_estimators': 127, 'max_depth': 50, 'min_samples_split': 22, 'min_samples_leaf': 32}. Best is trial 10 with value: -3.4507444538693823.\n",
      "[I 2024-11-18 11:57:40,334] Trial 11 finished with value: -3.4148035452523877 and parameters: {'n_estimators': 123, 'max_depth': 49, 'min_samples_split': 22, 'min_samples_leaf': 32}. Best is trial 10 with value: -3.4507444538693823.\n",
      "[I 2024-11-18 11:57:42,092] Trial 12 finished with value: -3.453322688316104 and parameters: {'n_estimators': 265, 'max_depth': 49, 'min_samples_split': 21, 'min_samples_leaf': 32}. Best is trial 12 with value: -3.453322688316104.\n",
      "[I 2024-11-18 11:57:44,460] Trial 13 finished with value: -2.4871126529211294 and parameters: {'n_estimators': 320, 'max_depth': 50, 'min_samples_split': 21, 'min_samples_leaf': 23}. Best is trial 12 with value: -3.453322688316104.\n",
      "[I 2024-11-18 11:57:46,247] Trial 14 finished with value: -2.3801246008763135 and parameters: {'n_estimators': 254, 'max_depth': 24, 'min_samples_split': 19, 'min_samples_leaf': 20}. Best is trial 12 with value: -3.453322688316104.\n",
      "[I 2024-11-18 11:57:49,927] Trial 15 finished with value: -3.441960573023793 and parameters: {'n_estimators': 541, 'max_depth': 36, 'min_samples_split': 25, 'min_samples_leaf': 32}. Best is trial 12 with value: -3.453322688316104.\n",
      "[I 2024-11-18 11:57:52,336] Trial 16 finished with value: -2.311374082867677 and parameters: {'n_estimators': 281, 'max_depth': 25, 'min_samples_split': 18, 'min_samples_leaf': 18}. Best is trial 12 with value: -3.453322688316104.\n",
      "[I 2024-11-18 11:57:58,711] Trial 17 finished with value: -2.8066272797730796 and parameters: {'n_estimators': 936, 'max_depth': 50, 'min_samples_split': 26, 'min_samples_leaf': 27}. Best is trial 12 with value: -3.453322688316104.\n",
      "[I 2024-11-18 11:58:01,525] Trial 18 finished with value: -3.431471755291608 and parameters: {'n_estimators': 385, 'max_depth': 31, 'min_samples_split': 9, 'min_samples_leaf': 32}. Best is trial 12 with value: -3.453322688316104.\n",
      "[I 2024-11-18 11:58:02,324] Trial 19 finished with value: -2.4830683663447823 and parameters: {'n_estimators': 103, 'max_depth': 39, 'min_samples_split': 32, 'min_samples_leaf': 23}. Best is trial 12 with value: -3.453322688316104.\n",
      "[I 2024-11-18 11:58:03,927] Trial 20 finished with value: -2.690621010146166 and parameters: {'n_estimators': 211, 'max_depth': 45, 'min_samples_split': 16, 'min_samples_leaf': 26}. Best is trial 12 with value: -3.453322688316104.\n",
      "[I 2024-11-18 11:58:07,848] Trial 21 finished with value: -3.4414768489290197 and parameters: {'n_estimators': 555, 'max_depth': 36, 'min_samples_split': 25, 'min_samples_leaf': 32}. Best is trial 12 with value: -3.453322688316104.\n",
      "[I 2024-11-18 11:58:11,824] Trial 22 finished with value: -3.20882395564589 and parameters: {'n_estimators': 566, 'max_depth': 46, 'min_samples_split': 25, 'min_samples_leaf': 30}. Best is trial 12 with value: -3.453322688316104.\n",
      "[I 2024-11-18 11:58:15,134] Trial 23 finished with value: -3.0702321343050896 and parameters: {'n_estimators': 473, 'max_depth': 40, 'min_samples_split': 20, 'min_samples_leaf': 29}. Best is trial 12 with value: -3.453322688316104.\n",
      "[I 2024-11-18 11:58:16,595] Trial 24 finished with value: -2.590430481796924 and parameters: {'n_estimators': 188, 'max_depth': 34, 'min_samples_split': 23, 'min_samples_leaf': 25}. Best is trial 12 with value: -3.453322688316104.\n",
      "[I 2024-11-18 11:58:21,108] Trial 25 finished with value: -2.3873889864008837 and parameters: {'n_estimators': 616, 'max_depth': 47, 'min_samples_split': 27, 'min_samples_leaf': 20}. Best is trial 12 with value: -3.453322688316104.\n",
      "[I 2024-11-18 11:58:27,205] Trial 26 finished with value: -3.181892483933379 and parameters: {'n_estimators': 890, 'max_depth': 28, 'min_samples_split': 18, 'min_samples_leaf': 30}. Best is trial 12 with value: -3.453322688316104.\n",
      "[I 2024-11-18 11:58:29,227] Trial 27 finished with value: -3.248534088694881 and parameters: {'n_estimators': 286, 'max_depth': 20, 'min_samples_split': 24, 'min_samples_leaf': 30}. Best is trial 12 with value: -3.453322688316104.\n",
      "[I 2024-11-18 11:58:32,194] Trial 28 finished with value: -2.3919650316800762 and parameters: {'n_estimators': 389, 'max_depth': 42, 'min_samples_split': 29, 'min_samples_leaf': 21}. Best is trial 12 with value: -3.453322688316104.\n",
      "[I 2024-11-18 11:58:35,761] Trial 29 finished with value: -2.611546551296679 and parameters: {'n_estimators': 493, 'max_depth': 48, 'min_samples_split': 22, 'min_samples_leaf': 25}. Best is trial 12 with value: -3.453322688316104.\n",
      "[I 2024-11-18 11:58:40,287] Trial 30 finished with value: -2.241885680234433 and parameters: {'n_estimators': 620, 'max_depth': 16, 'min_samples_split': 20, 'min_samples_leaf': 16}. Best is trial 12 with value: -3.453322688316104.\n",
      "[I 2024-11-18 11:58:44,055] Trial 31 finished with value: -3.441679198710113 and parameters: {'n_estimators': 534, 'max_depth': 36, 'min_samples_split': 25, 'min_samples_leaf': 32}. Best is trial 12 with value: -3.453322688316104.\n",
      "[I 2024-11-18 11:58:48,367] Trial 32 finished with value: -3.445449278745359 and parameters: {'n_estimators': 496, 'max_depth': 44, 'min_samples_split': 23, 'min_samples_leaf': 32}. Best is trial 12 with value: -3.453322688316104.\n",
      "[I 2024-11-18 11:58:49,721] Trial 33 finished with value: -3.092795611442419 and parameters: {'n_estimators': 186, 'max_depth': 42, 'min_samples_split': 30, 'min_samples_leaf': 29}. Best is trial 12 with value: -3.453322688316104.\n",
      "[I 2024-11-18 11:58:52,891] Trial 34 finished with value: -2.788561617618752 and parameters: {'n_estimators': 453, 'max_depth': 44, 'min_samples_split': 23, 'min_samples_leaf': 27}. Best is trial 12 with value: -3.453322688316104.\n",
      "[I 2024-11-18 11:58:55,118] Trial 35 finished with value: -2.9193250541362454 and parameters: {'n_estimators': 326, 'max_depth': 47, 'min_samples_split': 21, 'min_samples_leaf': 28}. Best is trial 12 with value: -3.453322688316104.\n",
      "[I 2024-11-18 11:58:59,329] Trial 36 finished with value: -3.1937973724220434 and parameters: {'n_estimators': 627, 'max_depth': 41, 'min_samples_split': 27, 'min_samples_leaf': 30}. Best is trial 12 with value: -3.453322688316104.\n",
      "[I 2024-11-18 11:59:00,871] Trial 37 finished with value: -3.352897287310122 and parameters: {'n_estimators': 227, 'max_depth': 44, 'min_samples_split': 16, 'min_samples_leaf': 31}. Best is trial 12 with value: -3.453322688316104.\n",
      "[I 2024-11-18 11:59:06,042] Trial 38 finished with value: -2.7980061622774324 and parameters: {'n_estimators': 782, 'max_depth': 50, 'min_samples_split': 24, 'min_samples_leaf': 27}. Best is trial 12 with value: -3.453322688316104.\n",
      "[I 2024-11-18 11:59:08,960] Trial 39 finished with value: -2.4651991410274094 and parameters: {'n_estimators': 422, 'max_depth': 47, 'min_samples_split': 14, 'min_samples_leaf': 23}. Best is trial 12 with value: -3.453322688316104.\n",
      "[I 2024-11-18 11:59:13,234] Trial 40 finished with value: -2.9243925863766633 and parameters: {'n_estimators': 665, 'max_depth': 38, 'min_samples_split': 10, 'min_samples_leaf': 28}. Best is trial 12 with value: -3.453322688316104.\n",
      "[I 2024-11-18 11:59:16,657] Trial 41 finished with value: -3.4318682135976233 and parameters: {'n_estimators': 514, 'max_depth': 33, 'min_samples_split': 26, 'min_samples_leaf': 32}. Best is trial 12 with value: -3.453322688316104.\n",
      "[I 2024-11-18 11:59:20,164] Trial 42 finished with value: -3.4803768635595382 and parameters: {'n_estimators': 539, 'max_depth': 37, 'min_samples_split': 23, 'min_samples_leaf': 32}. Best is trial 42 with value: -3.4803768635595382.\n",
      "[I 2024-11-18 11:59:21,280] Trial 43 finished with value: -3.0391429606864953 and parameters: {'n_estimators': 157, 'max_depth': 43, 'min_samples_split': 22, 'min_samples_leaf': 29}. Best is trial 42 with value: -3.4803768635595382.\n",
      "[I 2024-11-18 11:59:25,256] Trial 44 finished with value: -3.3436753984602716 and parameters: {'n_estimators': 584, 'max_depth': 37, 'min_samples_split': 20, 'min_samples_leaf': 31}. Best is trial 42 with value: -3.4803768635595382.\n",
      "[I 2024-11-18 11:59:29,515] Trial 45 finished with value: -3.330751497865992 and parameters: {'n_estimators': 664, 'max_depth': 33, 'min_samples_split': 28, 'min_samples_leaf': 31}. Best is trial 42 with value: -3.4803768635595382.\n",
      "[I 2024-11-18 11:59:32,710] Trial 46 finished with value: -2.141996234899228 and parameters: {'n_estimators': 423, 'max_depth': 39, 'min_samples_split': 18, 'min_samples_leaf': 14}. Best is trial 42 with value: -3.4803768635595382.\n",
      "[I 2024-11-18 11:59:34,984] Trial 47 finished with value: -2.9235600958524537 and parameters: {'n_estimators': 343, 'max_depth': 29, 'min_samples_split': 23, 'min_samples_leaf': 28}. Best is trial 42 with value: -3.4803768635595382.\n",
      "[I 2024-11-18 11:59:36,345] Trial 48 finished with value: -0.8134783968215343 and parameters: {'n_estimators': 147, 'max_depth': 45, 'min_samples_split': 21, 'min_samples_leaf': 4}. Best is trial 42 with value: -3.4803768635595382.\n",
      "[I 2024-11-18 11:59:38,578] Trial 49 finished with value: -2.607145228982314 and parameters: {'n_estimators': 276, 'max_depth': 49, 'min_samples_split': 19, 'min_samples_leaf': 25}. Best is trial 42 with value: -3.4803768635595382.\n",
      "[I 2024-11-18 11:59:43,442] Trial 50 finished with value: -3.427414768012368 and parameters: {'n_estimators': 749, 'max_depth': 41, 'min_samples_split': 2, 'min_samples_leaf': 32}. Best is trial 42 with value: -3.4803768635595382.\n",
      "[I 2024-11-18 11:59:46,563] Trial 51 finished with value: -3.449189454920345 and parameters: {'n_estimators': 493, 'max_depth': 31, 'min_samples_split': 25, 'min_samples_leaf': 32}. Best is trial 42 with value: -3.4803768635595382.\n",
      "[I 2024-11-18 11:59:49,877] Trial 52 finished with value: -3.1958792396533378 and parameters: {'n_estimators': 495, 'max_depth': 31, 'min_samples_split': 24, 'min_samples_leaf': 30}. Best is trial 42 with value: -3.4803768635595382.\n",
      "[I 2024-11-18 11:59:53,651] Trial 53 finished with value: -3.3335490301497983 and parameters: {'n_estimators': 584, 'max_depth': 26, 'min_samples_split': 27, 'min_samples_leaf': 31}. Best is trial 42 with value: -3.4803768635595382.\n",
      "[I 2024-11-18 11:59:56,659] Trial 54 finished with value: -3.0930219286336813 and parameters: {'n_estimators': 467, 'max_depth': 34, 'min_samples_split': 26, 'min_samples_leaf': 29}. Best is trial 42 with value: -3.4803768635595382.\n",
      "[I 2024-11-18 12:00:00,137] Trial 55 finished with value: -3.4250501873029564 and parameters: {'n_estimators': 521, 'max_depth': 32, 'min_samples_split': 22, 'min_samples_leaf': 32}. Best is trial 42 with value: -3.4803768635595382.\n",
      "[I 2024-11-18 12:00:02,648] Trial 56 finished with value: -3.3211017521440906 and parameters: {'n_estimators': 384, 'max_depth': 27, 'min_samples_split': 30, 'min_samples_leaf': 31}. Best is trial 42 with value: -3.4803768635595382.\n",
      "[I 2024-11-18 12:00:09,067] Trial 57 finished with value: -1.5260340501074425 and parameters: {'n_estimators': 854, 'max_depth': 23, 'min_samples_split': 24, 'min_samples_leaf': 9}. Best is trial 42 with value: -3.4803768635595382.\n",
      "[I 2024-11-18 12:00:10,804] Trial 58 finished with value: -2.688989111541208 and parameters: {'n_estimators': 246, 'max_depth': 48, 'min_samples_split': 21, 'min_samples_leaf': 26}. Best is trial 42 with value: -3.4803768635595382.\n",
      "[I 2024-11-18 12:00:13,657] Trial 59 finished with value: -3.09614361257787 and parameters: {'n_estimators': 435, 'max_depth': 36, 'min_samples_split': 19, 'min_samples_leaf': 29}. Best is trial 42 with value: -3.4803768635595382.\n",
      "[I 2024-11-18 12:00:14,542] Trial 60 finished with value: -3.216570932916267 and parameters: {'n_estimators': 109, 'max_depth': 30, 'min_samples_split': 17, 'min_samples_leaf': 30}. Best is trial 42 with value: -3.4803768635595382.\n",
      "[I 2024-11-18 12:00:17,947] Trial 61 finished with value: -3.4277750004401932 and parameters: {'n_estimators': 534, 'max_depth': 36, 'min_samples_split': 26, 'min_samples_leaf': 32}. Best is trial 42 with value: -3.4803768635595382.\n",
      "[I 2024-11-18 12:00:21,611] Trial 62 finished with value: -3.4458210511455247 and parameters: {'n_estimators': 551, 'max_depth': 39, 'min_samples_split': 25, 'min_samples_leaf': 32}. Best is trial 42 with value: -3.4803768635595382.\n",
      "[I 2024-11-18 12:00:25,639] Trial 63 finished with value: -3.3082562905928867 and parameters: {'n_estimators': 555, 'max_depth': 38, 'min_samples_split': 25, 'min_samples_leaf': 31}. Best is trial 42 with value: -3.4803768635595382.\n",
      "[I 2024-11-18 12:00:29,825] Trial 64 finished with value: -3.441623427431824 and parameters: {'n_estimators': 651, 'max_depth': 40, 'min_samples_split': 23, 'min_samples_leaf': 32}. Best is trial 42 with value: -3.4803768635595382.\n",
      "[I 2024-11-18 12:00:34,100] Trial 65 finished with value: -2.822572826622288 and parameters: {'n_estimators': 599, 'max_depth': 46, 'min_samples_split': 5, 'min_samples_leaf': 27}. Best is trial 42 with value: -3.4803768635595382.\n",
      "[I 2024-11-18 12:00:38,607] Trial 66 finished with value: -3.19158566731744 and parameters: {'n_estimators': 690, 'max_depth': 49, 'min_samples_split': 28, 'min_samples_leaf': 30}. Best is trial 42 with value: -3.4803768635595382.\n",
      "[I 2024-11-18 12:00:41,264] Trial 67 finished with value: -3.051087674645506 and parameters: {'n_estimators': 406, 'max_depth': 44, 'min_samples_split': 25, 'min_samples_leaf': 29}. Best is trial 42 with value: -3.4803768635595382.\n",
      "[I 2024-11-18 12:00:44,615] Trial 68 finished with value: -3.353714484508565 and parameters: {'n_estimators': 490, 'max_depth': 35, 'min_samples_split': 23, 'min_samples_leaf': 31}. Best is trial 42 with value: -3.4803768635595382.\n",
      "[I 2024-11-18 12:00:47,584] Trial 69 finished with value: -2.9481929096294595 and parameters: {'n_estimators': 451, 'max_depth': 40, 'min_samples_split': 22, 'min_samples_leaf': 28}. Best is trial 42 with value: -3.4803768635595382.\n",
      "[I 2024-11-18 12:00:51,336] Trial 70 finished with value: -3.1829560605379696 and parameters: {'n_estimators': 559, 'max_depth': 45, 'min_samples_split': 20, 'min_samples_leaf': 30}. Best is trial 42 with value: -3.4803768635595382.\n",
      "[I 2024-11-18 12:00:54,809] Trial 71 finished with value: -3.436973017016414 and parameters: {'n_estimators': 522, 'max_depth': 42, 'min_samples_split': 25, 'min_samples_leaf': 32}. Best is trial 42 with value: -3.4803768635595382.\n",
      "[I 2024-11-18 12:00:58,424] Trial 72 finished with value: -3.47799272080663 and parameters: {'n_estimators': 533, 'max_depth': 35, 'min_samples_split': 24, 'min_samples_leaf': 32}. Best is trial 42 with value: -3.4803768635595382.\n",
      "[I 2024-11-18 12:01:00,939] Trial 73 finished with value: -3.3330772298799416 and parameters: {'n_estimators': 355, 'max_depth': 34, 'min_samples_split': 27, 'min_samples_leaf': 31}. Best is trial 42 with value: -3.4803768635595382.\n",
      "[I 2024-11-18 12:01:04,835] Trial 74 finished with value: -3.201923768605378 and parameters: {'n_estimators': 595, 'max_depth': 38, 'min_samples_split': 24, 'min_samples_leaf': 30}. Best is trial 42 with value: -3.4803768635595382.\n",
      "[I 2024-11-18 12:01:06,876] Trial 75 finished with value: -3.462778483568056 and parameters: {'n_estimators': 308, 'max_depth': 32, 'min_samples_split': 21, 'min_samples_leaf': 32}. Best is trial 42 with value: -3.4803768635595382.\n",
      "[I 2024-11-18 12:01:09,968] Trial 76 finished with value: -3.074759004175499 and parameters: {'n_estimators': 303, 'max_depth': 32, 'min_samples_split': 21, 'min_samples_leaf': 29}. Best is trial 42 with value: -3.4803768635595382.\n",
      "[I 2024-11-18 12:01:11,139] Trial 77 finished with value: -3.4677434543026266 and parameters: {'n_estimators': 163, 'max_depth': 10, 'min_samples_split': 22, 'min_samples_leaf': 32}. Best is trial 42 with value: -3.4803768635595382.\n",
      "[I 2024-11-18 12:01:12,342] Trial 78 finished with value: -2.9275737287995596 and parameters: {'n_estimators': 170, 'max_depth': 15, 'min_samples_split': 19, 'min_samples_leaf': 28}. Best is trial 42 with value: -3.4803768635595382.\n",
      "[I 2024-11-18 12:01:13,346] Trial 79 finished with value: -3.2870323147848977 and parameters: {'n_estimators': 137, 'max_depth': 30, 'min_samples_split': 22, 'min_samples_leaf': 31}. Best is trial 42 with value: -3.4803768635595382.\n",
      "[I 2024-11-18 12:01:14,769] Trial 80 finished with value: -2.6978378456490053 and parameters: {'n_estimators': 198, 'max_depth': 10, 'min_samples_split': 21, 'min_samples_leaf': 26}. Best is trial 42 with value: -3.4803768635595382.\n",
      "[I 2024-11-18 12:01:16,478] Trial 81 finished with value: -3.483358424261586 and parameters: {'n_estimators': 229, 'max_depth': 50, 'min_samples_split': 23, 'min_samples_leaf': 32}. Best is trial 81 with value: -3.483358424261586.\n",
      "[I 2024-11-18 12:01:17,890] Trial 82 finished with value: -3.4619744607583387 and parameters: {'n_estimators': 206, 'max_depth': 20, 'min_samples_split': 20, 'min_samples_leaf': 32}. Best is trial 81 with value: -3.483358424261586.\n",
      "[I 2024-11-18 12:01:19,469] Trial 83 finished with value: -3.2995882480256986 and parameters: {'n_estimators': 229, 'max_depth': 18, 'min_samples_split': 17, 'min_samples_leaf': 31}. Best is trial 81 with value: -3.483358424261586.\n",
      "[I 2024-11-18 12:01:21,342] Trial 84 finished with value: -3.204524000446347 and parameters: {'n_estimators': 261, 'max_depth': 21, 'min_samples_split': 20, 'min_samples_leaf': 30}. Best is trial 81 with value: -3.483358424261586.\n",
      "[I 2024-11-18 12:01:22,799] Trial 85 finished with value: -3.4689087495316584 and parameters: {'n_estimators': 213, 'max_depth': 12, 'min_samples_split': 19, 'min_samples_leaf': 32}. Best is trial 81 with value: -3.483358424261586.\n",
      "[I 2024-11-18 12:01:24,179] Trial 86 finished with value: -2.2431303212150757 and parameters: {'n_estimators': 182, 'max_depth': 14, 'min_samples_split': 18, 'min_samples_leaf': 16}. Best is trial 81 with value: -3.483358424261586.\n",
      "[I 2024-11-18 12:01:25,634] Trial 87 finished with value: -3.0567699515212707 and parameters: {'n_estimators': 208, 'max_depth': 12, 'min_samples_split': 19, 'min_samples_leaf': 29}. Best is trial 81 with value: -3.483358424261586.\n",
      "[I 2024-11-18 12:01:27,389] Trial 88 finished with value: -3.3116231013723136 and parameters: {'n_estimators': 232, 'max_depth': 12, 'min_samples_split': 16, 'min_samples_leaf': 31}. Best is trial 81 with value: -3.483358424261586.\n",
      "[I 2024-11-18 12:01:28,554] Trial 89 finished with value: -2.8225828113552747 and parameters: {'n_estimators': 161, 'max_depth': 18, 'min_samples_split': 22, 'min_samples_leaf': 27}. Best is trial 81 with value: -3.483358424261586.\n",
      "[I 2024-11-18 12:01:29,522] Trial 90 finished with value: -3.515704962120652 and parameters: {'n_estimators': 133, 'max_depth': 50, 'min_samples_split': 20, 'min_samples_leaf': 32}. Best is trial 90 with value: -3.515704962120652.\n",
      "[I 2024-11-18 12:01:30,456] Trial 91 finished with value: -3.4689203031518447 and parameters: {'n_estimators': 126, 'max_depth': 50, 'min_samples_split': 20, 'min_samples_leaf': 32}. Best is trial 90 with value: -3.515704962120652.\n",
      "[I 2024-11-18 12:01:31,308] Trial 92 finished with value: -3.405934890877314 and parameters: {'n_estimators': 115, 'max_depth': 50, 'min_samples_split': 20, 'min_samples_leaf': 32}. Best is trial 90 with value: -3.515704962120652.\n",
      "[I 2024-11-18 12:01:33,301] Trial 93 finished with value: -3.237651338809182 and parameters: {'n_estimators': 260, 'max_depth': 49, 'min_samples_split': 18, 'min_samples_leaf': 30}. Best is trial 90 with value: -3.515704962120652.\n",
      "[I 2024-11-18 12:01:34,276] Trial 94 finished with value: -3.4787488155066333 and parameters: {'n_estimators': 135, 'max_depth': 48, 'min_samples_split': 21, 'min_samples_leaf': 32}. Best is trial 90 with value: -3.515704962120652.\n",
      "[I 2024-11-18 12:01:35,484] Trial 95 finished with value: -3.379706536162014 and parameters: {'n_estimators': 168, 'max_depth': 12, 'min_samples_split': 20, 'min_samples_leaf': 31}. Best is trial 90 with value: -3.515704962120652.\n",
      "[I 2024-11-18 12:01:36,677] Trial 96 finished with value: -0.6452879049502579 and parameters: {'n_estimators': 131, 'max_depth': 48, 'min_samples_split': 17, 'min_samples_leaf': 2}. Best is trial 90 with value: -3.515704962120652.\n",
      "[I 2024-11-18 12:01:38,290] Trial 97 finished with value: -3.473380756003882 and parameters: {'n_estimators': 220, 'max_depth': 11, 'min_samples_split': 21, 'min_samples_leaf': 32}. Best is trial 90 with value: -3.515704962120652.\n",
      "[I 2024-11-18 12:01:39,106] Trial 98 finished with value: -3.1849479716415745 and parameters: {'n_estimators': 104, 'max_depth': 10, 'min_samples_split': 21, 'min_samples_leaf': 30}. Best is trial 90 with value: -3.515704962120652.\n",
      "[I 2024-11-18 12:01:40,185] Trial 99 finished with value: -3.322988343796782 and parameters: {'n_estimators': 150, 'max_depth': 14, 'min_samples_split': 23, 'min_samples_leaf': 31}. Best is trial 90 with value: -3.515704962120652.\n",
      "[I 2024-11-18 12:01:42,496] Trial 100 finished with value: -3.4498205553153958 and parameters: {'n_estimators': 293, 'max_depth': 50, 'min_samples_split': 19, 'min_samples_leaf': 32}. Best is trial 90 with value: -3.515704962120652.\n",
      "[I 2024-11-18 12:01:44,085] Trial 101 finished with value: -3.5015564206122525 and parameters: {'n_estimators': 212, 'max_depth': 11, 'min_samples_split': 22, 'min_samples_leaf': 32}. Best is trial 90 with value: -3.515704962120652.\n",
      "[I 2024-11-18 12:01:50,619] Trial 102 finished with value: -3.335868379448347 and parameters: {'n_estimators': 992, 'max_depth': 11, 'min_samples_split': 22, 'min_samples_leaf': 31}. Best is trial 90 with value: -3.515704962120652.\n",
      "[I 2024-11-18 12:01:51,921] Trial 103 finished with value: -3.4644978544943754 and parameters: {'n_estimators': 189, 'max_depth': 11, 'min_samples_split': 24, 'min_samples_leaf': 32}. Best is trial 90 with value: -3.515704962120652.\n",
      "[I 2024-11-18 12:01:53,253] Trial 104 finished with value: -3.084858768475202 and parameters: {'n_estimators': 185, 'max_depth': 11, 'min_samples_split': 24, 'min_samples_leaf': 29}. Best is trial 90 with value: -3.515704962120652.\n",
      "[I 2024-11-18 12:01:54,948] Trial 105 finished with value: -3.1960707918393276 and parameters: {'n_estimators': 221, 'max_depth': 13, 'min_samples_split': 23, 'min_samples_leaf': 30}. Best is trial 90 with value: -3.515704962120652.\n",
      "[I 2024-11-18 12:01:55,951] Trial 106 finished with value: -3.291604222501166 and parameters: {'n_estimators': 138, 'max_depth': 10, 'min_samples_split': 24, 'min_samples_leaf': 31}. Best is trial 90 with value: -3.515704962120652.\n",
      "[I 2024-11-18 12:01:56,846] Trial 107 finished with value: -3.488018612598407 and parameters: {'n_estimators': 120, 'max_depth': 13, 'min_samples_split': 23, 'min_samples_leaf': 32}. Best is trial 90 with value: -3.515704962120652.\n",
      "[I 2024-11-18 12:01:57,796] Trial 108 finished with value: -3.2287916973689748 and parameters: {'n_estimators': 129, 'max_depth': 13, 'min_samples_split': 22, 'min_samples_leaf': 30}. Best is trial 90 with value: -3.515704962120652.\n",
      "[I 2024-11-18 12:01:59,544] Trial 109 finished with value: -3.049354088199179 and parameters: {'n_estimators': 246, 'max_depth': 47, 'min_samples_split': 23, 'min_samples_leaf': 29}. Best is trial 90 with value: -3.515704962120652.\n",
      "[I 2024-11-18 12:02:00,931] Trial 110 finished with value: -1.9095188670302068 and parameters: {'n_estimators': 168, 'max_depth': 17, 'min_samples_split': 19, 'min_samples_leaf': 12}. Best is trial 90 with value: -3.515704962120652.\n",
      "[I 2024-11-18 12:02:01,711] Trial 111 finished with value: -3.4574829719706144 and parameters: {'n_estimators': 100, 'max_depth': 11, 'min_samples_split': 21, 'min_samples_leaf': 32}. Best is trial 90 with value: -3.515704962120652.\n",
      "[I 2024-11-18 12:02:02,783] Trial 112 finished with value: -3.4400275494685446 and parameters: {'n_estimators': 148, 'max_depth': 13, 'min_samples_split': 22, 'min_samples_leaf': 32}. Best is trial 90 with value: -3.515704962120652.\n",
      "[I 2024-11-18 12:02:04,539] Trial 113 finished with value: -2.4154346818398125 and parameters: {'n_estimators': 194, 'max_depth': 14, 'min_samples_split': 23, 'min_samples_leaf': 22}. Best is trial 90 with value: -3.515704962120652.\n",
      "[I 2024-11-18 12:02:05,937] Trial 114 finished with value: -3.3503396224982156 and parameters: {'n_estimators': 173, 'max_depth': 12, 'min_samples_split': 24, 'min_samples_leaf': 31}. Best is trial 90 with value: -3.515704962120652.\n",
      "[I 2024-11-18 12:02:07,561] Trial 115 finished with value: -2.3043279996029327 and parameters: {'n_estimators': 215, 'max_depth': 15, 'min_samples_split': 21, 'min_samples_leaf': 18}. Best is trial 90 with value: -3.515704962120652.\n",
      "[I 2024-11-18 12:02:08,463] Trial 116 finished with value: -3.481843958306448 and parameters: {'n_estimators': 121, 'max_depth': 10, 'min_samples_split': 26, 'min_samples_leaf': 32}. Best is trial 90 with value: -3.515704962120652.\n",
      "[I 2024-11-18 12:02:09,380] Trial 117 finished with value: -3.3293531245719308 and parameters: {'n_estimators': 124, 'max_depth': 48, 'min_samples_split': 26, 'min_samples_leaf': 31}. Best is trial 90 with value: -3.515704962120652.\n",
      "[I 2024-11-18 12:02:10,285] Trial 118 finished with value: -3.50966182183346 and parameters: {'n_estimators': 117, 'max_depth': 10, 'min_samples_split': 20, 'min_samples_leaf': 32}. Best is trial 90 with value: -3.515704962120652.\n",
      "[I 2024-11-18 12:02:11,225] Trial 119 finished with value: -3.1893382336274896 and parameters: {'n_estimators': 118, 'max_depth': 50, 'min_samples_split': 18, 'min_samples_leaf': 30}. Best is trial 90 with value: -3.515704962120652.\n",
      "[I 2024-11-18 12:02:12,318] Trial 120 finished with value: -3.2547148690705483 and parameters: {'n_estimators': 148, 'max_depth': 46, 'min_samples_split': 20, 'min_samples_leaf': 31}. Best is trial 90 with value: -3.515704962120652.\n",
      "[I 2024-11-18 12:02:13,102] Trial 121 finished with value: -3.5203232638156505 and parameters: {'n_estimators': 101, 'max_depth': 10, 'min_samples_split': 22, 'min_samples_leaf': 32}. Best is trial 121 with value: -3.5203232638156505.\n",
      "[I 2024-11-18 12:02:14,065] Trial 122 finished with value: -3.3762446530880963 and parameters: {'n_estimators': 126, 'max_depth': 10, 'min_samples_split': 21, 'min_samples_leaf': 32}. Best is trial 121 with value: -3.5203232638156505.\n",
      "[I 2024-11-18 12:02:14,885] Trial 123 finished with value: -3.436346087288714 and parameters: {'n_estimators': 109, 'max_depth': 11, 'min_samples_split': 20, 'min_samples_leaf': 32}. Best is trial 121 with value: -3.5203232638156505.\n",
      "[I 2024-11-18 12:02:16,076] Trial 124 finished with value: -3.336341325002036 and parameters: {'n_estimators': 149, 'max_depth': 13, 'min_samples_split': 19, 'min_samples_leaf': 31}. Best is trial 121 with value: -3.5203232638156505.\n",
      "[I 2024-11-18 12:02:17,725] Trial 125 finished with value: -3.1680248194802965 and parameters: {'n_estimators': 235, 'max_depth': 49, 'min_samples_split': 23, 'min_samples_leaf': 30}. Best is trial 121 with value: -3.5203232638156505.\n",
      "[I 2024-11-18 12:02:18,522] Trial 126 finished with value: -3.4533539403252944 and parameters: {'n_estimators': 103, 'max_depth': 12, 'min_samples_split': 22, 'min_samples_leaf': 32}. Best is trial 121 with value: -3.5203232638156505.\n",
      "[I 2024-11-18 12:02:19,511] Trial 127 finished with value: -3.4121800780617315 and parameters: {'n_estimators': 134, 'max_depth': 10, 'min_samples_split': 26, 'min_samples_leaf': 31}. Best is trial 121 with value: -3.5203232638156505.\n",
      "[I 2024-11-18 12:02:21,791] Trial 128 finished with value: -3.4233683684305434 and parameters: {'n_estimators': 330, 'max_depth': 12, 'min_samples_split': 23, 'min_samples_leaf': 32}. Best is trial 121 with value: -3.5203232638156505.\n",
      "[I 2024-11-18 12:02:23,212] Trial 129 finished with value: -3.1864628305919207 and parameters: {'n_estimators': 201, 'max_depth': 15, 'min_samples_split': 21, 'min_samples_leaf': 30}. Best is trial 121 with value: -3.5203232638156505.\n",
      "[I 2024-11-18 12:02:24,367] Trial 130 finished with value: -2.9318049574204794 and parameters: {'n_estimators': 158, 'max_depth': 11, 'min_samples_split': 20, 'min_samples_leaf': 28}. Best is trial 121 with value: -3.5203232638156505.\n",
      "[I 2024-11-18 12:02:25,627] Trial 131 finished with value: -3.4432408441187072 and parameters: {'n_estimators': 175, 'max_depth': 10, 'min_samples_split': 22, 'min_samples_leaf': 32}. Best is trial 121 with value: -3.5203232638156505.\n",
      "[I 2024-11-18 12:02:26,656] Trial 132 finished with value: -3.4046342103732656 and parameters: {'n_estimators': 127, 'max_depth': 10, 'min_samples_split': 22, 'min_samples_leaf': 31}. Best is trial 121 with value: -3.5203232638156505.\n",
      "[I 2024-11-18 12:02:28,005] Trial 133 finished with value: -1.3979804470604165 and parameters: {'n_estimators': 160, 'max_depth': 11, 'min_samples_split': 25, 'min_samples_leaf': 8}. Best is trial 121 with value: -3.5203232638156505.\n",
      "[I 2024-11-18 12:02:28,902] Trial 134 finished with value: -3.4736206144423556 and parameters: {'n_estimators': 119, 'max_depth': 24, 'min_samples_split': 21, 'min_samples_leaf': 32}. Best is trial 121 with value: -3.5203232638156505.\n",
      "[I 2024-11-18 12:02:29,693] Trial 135 finished with value: -3.472299931197533 and parameters: {'n_estimators': 101, 'max_depth': 25, 'min_samples_split': 19, 'min_samples_leaf': 32}. Best is trial 121 with value: -3.5203232638156505.\n",
      "[I 2024-11-18 12:02:30,498] Trial 136 finished with value: -3.0670604370427723 and parameters: {'n_estimators': 105, 'max_depth': 23, 'min_samples_split': 21, 'min_samples_leaf': 29}. Best is trial 121 with value: -3.5203232638156505.\n",
      "[I 2024-11-18 12:02:31,420] Trial 137 finished with value: -3.328051929295479 and parameters: {'n_estimators': 124, 'max_depth': 49, 'min_samples_split': 20, 'min_samples_leaf': 31}. Best is trial 121 with value: -3.5203232638156505.\n",
      "[I 2024-11-18 12:02:32,559] Trial 138 finished with value: -3.2713399958862928 and parameters: {'n_estimators': 142, 'max_depth': 25, 'min_samples_split': 9, 'min_samples_leaf': 31}. Best is trial 121 with value: -3.5203232638156505.\n",
      "[I 2024-11-18 12:02:33,342] Trial 139 finished with value: -3.446180267122178 and parameters: {'n_estimators': 102, 'max_depth': 28, 'min_samples_split': 24, 'min_samples_leaf': 32}. Best is trial 121 with value: -3.5203232638156505.\n",
      "[I 2024-11-18 12:02:34,240] Trial 140 finished with value: -3.2224959220088776 and parameters: {'n_estimators': 120, 'max_depth': 29, 'min_samples_split': 17, 'min_samples_leaf': 30}. Best is trial 121 with value: -3.5203232638156505.\n",
      "[I 2024-11-18 12:02:35,293] Trial 141 finished with value: -3.445290074590421 and parameters: {'n_estimators': 147, 'max_depth': 22, 'min_samples_split': 19, 'min_samples_leaf': 32}. Best is trial 121 with value: -3.5203232638156505.\n",
      "[I 2024-11-18 12:02:36,593] Trial 142 finished with value: -3.476885256347208 and parameters: {'n_estimators': 181, 'max_depth': 48, 'min_samples_split': 21, 'min_samples_leaf': 32}. Best is trial 121 with value: -3.5203232638156505.\n",
      "[I 2024-11-18 12:02:37,992] Trial 143 finished with value: -3.309523258713921 and parameters: {'n_estimators': 177, 'max_depth': 48, 'min_samples_split': 21, 'min_samples_leaf': 31}. Best is trial 121 with value: -3.5203232638156505.\n",
      "[I 2024-11-18 12:02:38,900] Trial 144 finished with value: -3.518800320986763 and parameters: {'n_estimators': 120, 'max_depth': 49, 'min_samples_split': 18, 'min_samples_leaf': 32}. Best is trial 121 with value: -3.5203232638156505.\n",
      "[I 2024-11-18 12:02:39,895] Trial 145 finished with value: -3.398597847045488 and parameters: {'n_estimators': 136, 'max_depth': 26, 'min_samples_split': 23, 'min_samples_leaf': 32}. Best is trial 121 with value: -3.5203232638156505.\n",
      "[I 2024-11-18 12:02:41,252] Trial 146 finished with value: -3.4012991490412743 and parameters: {'n_estimators': 193, 'max_depth': 47, 'min_samples_split': 21, 'min_samples_leaf': 31}. Best is trial 121 with value: -3.5203232638156505.\n",
      "[I 2024-11-18 12:02:47,039] Trial 147 finished with value: -3.1994690727094275 and parameters: {'n_estimators': 824, 'max_depth': 46, 'min_samples_split': 18, 'min_samples_leaf': 30}. Best is trial 121 with value: -3.5203232638156505.\n",
      "[I 2024-11-18 12:02:49,003] Trial 148 finished with value: -3.4264356545506054 and parameters: {'n_estimators': 277, 'max_depth': 48, 'min_samples_split': 22, 'min_samples_leaf': 32}. Best is trial 121 with value: -3.5203232638156505.\n",
      "[I 2024-11-18 12:02:49,792] Trial 149 finished with value: -3.3222199683392537 and parameters: {'n_estimators': 101, 'max_depth': 49, 'min_samples_split': 24, 'min_samples_leaf': 31}. Best is trial 121 with value: -3.5203232638156505.\n",
      "[I 2024-11-18 12:02:50,966] Trial 150 finished with value: -3.079572677747691 and parameters: {'n_estimators': 162, 'max_depth': 37, 'min_samples_split': 19, 'min_samples_leaf': 29}. Best is trial 121 with value: -3.5203232638156505.\n",
      "[I 2024-11-18 12:02:51,956] Trial 151 finished with value: -3.414320904624361 and parameters: {'n_estimators': 126, 'max_depth': 50, 'min_samples_split': 20, 'min_samples_leaf': 32}. Best is trial 121 with value: -3.5203232638156505.\n",
      "[I 2024-11-18 12:02:52,862] Trial 152 finished with value: -3.4666993619873283 and parameters: {'n_estimators': 120, 'max_depth': 48, 'min_samples_split': 20, 'min_samples_leaf': 32}. Best is trial 121 with value: -3.5203232638156505.\n",
      "[I 2024-11-18 12:02:54,009] Trial 153 finished with value: -3.459899799903094 and parameters: {'n_estimators': 144, 'max_depth': 50, 'min_samples_split': 21, 'min_samples_leaf': 32}. Best is trial 121 with value: -3.5203232638156505.\n",
      "[I 2024-11-18 12:02:55,306] Trial 154 finished with value: -3.333271429470485 and parameters: {'n_estimators': 176, 'max_depth': 47, 'min_samples_split': 22, 'min_samples_leaf': 31}. Best is trial 121 with value: -3.5203232638156505.\n",
      "[I 2024-11-18 12:02:56,088] Trial 155 finished with value: -3.25749555465663 and parameters: {'n_estimators': 100, 'max_depth': 49, 'min_samples_split': 19, 'min_samples_leaf': 30}. Best is trial 121 with value: -3.5203232638156505.\n",
      "[I 2024-11-18 12:02:57,233] Trial 156 finished with value: -3.336338769635367 and parameters: {'n_estimators': 157, 'max_depth': 50, 'min_samples_split': 18, 'min_samples_leaf': 31}. Best is trial 121 with value: -3.5203232638156505.\n",
      "[I 2024-11-18 12:02:58,244] Trial 157 finished with value: -3.42664834082343 and parameters: {'n_estimators': 138, 'max_depth': 24, 'min_samples_split': 23, 'min_samples_leaf': 32}. Best is trial 121 with value: -3.5203232638156505.\n",
      "[I 2024-11-18 12:02:59,239] Trial 158 finished with value: -3.353250298273145 and parameters: {'n_estimators': 119, 'max_depth': 19, 'min_samples_split': 20, 'min_samples_leaf': 32}. Best is trial 121 with value: -3.5203232638156505.\n",
      "[I 2024-11-18 12:03:00,531] Trial 159 finished with value: -3.3328153550285364 and parameters: {'n_estimators': 182, 'max_depth': 46, 'min_samples_split': 15, 'min_samples_leaf': 31}. Best is trial 121 with value: -3.5203232638156505.\n",
      "[I 2024-11-18 12:03:02,054] Trial 160 finished with value: -3.1901608659255296 and parameters: {'n_estimators': 214, 'max_depth': 33, 'min_samples_split': 21, 'min_samples_leaf': 30}. Best is trial 121 with value: -3.5203232638156505.\n",
      "[I 2024-11-18 12:03:03,676] Trial 161 finished with value: -3.4514238786520473 and parameters: {'n_estimators': 239, 'max_depth': 12, 'min_samples_split': 17, 'min_samples_leaf': 32}. Best is trial 121 with value: -3.5203232638156505.\n",
      "[I 2024-11-18 12:03:05,193] Trial 162 finished with value: -3.456169948443905 and parameters: {'n_estimators': 195, 'max_depth': 13, 'min_samples_split': 19, 'min_samples_leaf': 32}. Best is trial 121 with value: -3.5203232638156505.\n",
      "[I 2024-11-18 12:03:06,317] Trial 163 finished with value: -3.353730985704101 and parameters: {'n_estimators': 154, 'max_depth': 43, 'min_samples_split': 22, 'min_samples_leaf': 31}. Best is trial 121 with value: -3.5203232638156505.\n",
      "[I 2024-11-18 12:03:07,808] Trial 164 finished with value: -3.4523715717275705 and parameters: {'n_estimators': 214, 'max_depth': 49, 'min_samples_split': 18, 'min_samples_leaf': 32}. Best is trial 121 with value: -3.5203232638156505.\n",
      "[I 2024-11-18 12:03:08,693] Trial 165 finished with value: -3.319252853627811 and parameters: {'n_estimators': 116, 'max_depth': 11, 'min_samples_split': 28, 'min_samples_leaf': 31}. Best is trial 121 with value: -3.5203232638156505.\n",
      "[I 2024-11-18 12:03:09,732] Trial 166 finished with value: -3.4151536845160804 and parameters: {'n_estimators': 141, 'max_depth': 14, 'min_samples_split': 20, 'min_samples_leaf': 32}. Best is trial 121 with value: -3.5203232638156505.\n",
      "[I 2024-11-18 12:03:11,054] Trial 167 finished with value: -3.2035463654054928 and parameters: {'n_estimators': 166, 'max_depth': 10, 'min_samples_split': 23, 'min_samples_leaf': 30}. Best is trial 121 with value: -3.5203232638156505.\n",
      "[I 2024-11-18 12:03:12,874] Trial 168 finished with value: -3.335645265114759 and parameters: {'n_estimators': 264, 'max_depth': 12, 'min_samples_split': 19, 'min_samples_leaf': 31}. Best is trial 121 with value: -3.5203232638156505.\n",
      "[I 2024-11-18 12:03:13,768] Trial 169 finished with value: -3.51254867725575 and parameters: {'n_estimators': 119, 'max_depth': 48, 'min_samples_split': 21, 'min_samples_leaf': 32}. Best is trial 121 with value: -3.5203232638156505.\n",
      "[I 2024-11-18 12:03:14,629] Trial 170 finished with value: -3.415104961323774 and parameters: {'n_estimators': 116, 'max_depth': 47, 'min_samples_split': 22, 'min_samples_leaf': 32}. Best is trial 121 with value: -3.5203232638156505.\n",
      "[I 2024-11-18 12:03:15,493] Trial 171 finished with value: -3.3775821313060073 and parameters: {'n_estimators': 100, 'max_depth': 48, 'min_samples_split': 21, 'min_samples_leaf': 32}. Best is trial 121 with value: -3.5203232638156505.\n",
      "[I 2024-11-18 12:03:16,752] Trial 172 finished with value: -2.1503190620611625 and parameters: {'n_estimators': 133, 'max_depth': 50, 'min_samples_split': 20, 'min_samples_leaf': 14}. Best is trial 121 with value: -3.5203232638156505.\n",
      "[I 2024-11-18 12:03:21,654] Trial 173 finished with value: -3.327289016035479 and parameters: {'n_estimators': 722, 'max_depth': 10, 'min_samples_split': 21, 'min_samples_leaf': 31}. Best is trial 121 with value: -3.5203232638156505.\n",
      "[I 2024-11-18 12:03:22,661] Trial 174 finished with value: -3.4016924643071995 and parameters: {'n_estimators': 140, 'max_depth': 48, 'min_samples_split': 5, 'min_samples_leaf': 32}. Best is trial 121 with value: -3.5203232638156505.\n",
      "[I 2024-11-18 12:03:23,586] Trial 175 finished with value: -3.271726155332755 and parameters: {'n_estimators': 120, 'max_depth': 11, 'min_samples_split': 23, 'min_samples_leaf': 31}. Best is trial 121 with value: -3.5203232638156505.\n",
      "[I 2024-11-18 12:03:24,866] Trial 176 finished with value: -3.43853137603653 and parameters: {'n_estimators': 179, 'max_depth': 45, 'min_samples_split': 22, 'min_samples_leaf': 32}. Best is trial 121 with value: -3.5203232638156505.\n",
      "[I 2024-11-18 12:03:26,111] Trial 177 finished with value: -3.236067631365304 and parameters: {'n_estimators': 161, 'max_depth': 50, 'min_samples_split': 21, 'min_samples_leaf': 30}. Best is trial 121 with value: -3.5203232638156505.\n",
      "[I 2024-11-18 12:03:29,904] Trial 178 finished with value: -3.320124956835392 and parameters: {'n_estimators': 572, 'max_depth': 27, 'min_samples_split': 20, 'min_samples_leaf': 31}. Best is trial 121 with value: -3.5203232638156505.\n",
      "[I 2024-11-18 12:03:31,387] Trial 179 finished with value: -3.4371046249008694 and parameters: {'n_estimators': 199, 'max_depth': 49, 'min_samples_split': 18, 'min_samples_leaf': 32}. Best is trial 121 with value: -3.5203232638156505.\n",
      "[I 2024-11-18 12:03:32,392] Trial 180 finished with value: -3.3639541211596735 and parameters: {'n_estimators': 133, 'max_depth': 11, 'min_samples_split': 24, 'min_samples_leaf': 31}. Best is trial 121 with value: -3.5203232638156505.\n",
      "[I 2024-11-18 12:03:33,515] Trial 181 finished with value: -3.4395259182501854 and parameters: {'n_estimators': 153, 'max_depth': 10, 'min_samples_split': 22, 'min_samples_leaf': 32}. Best is trial 121 with value: -3.5203232638156505.\n",
      "[I 2024-11-18 12:03:34,401] Trial 182 finished with value: -3.470523500787711 and parameters: {'n_estimators': 116, 'max_depth': 35, 'min_samples_split': 19, 'min_samples_leaf': 32}. Best is trial 121 with value: -3.5203232638156505.\n",
      "[I 2024-11-18 12:03:35,202] Trial 183 finished with value: -3.4677132422064494 and parameters: {'n_estimators': 100, 'max_depth': 34, 'min_samples_split': 19, 'min_samples_leaf': 32}. Best is trial 121 with value: -3.5203232638156505.\n",
      "[I 2024-11-18 12:03:36,126] Trial 184 finished with value: -3.28826226882844 and parameters: {'n_estimators': 119, 'max_depth': 35, 'min_samples_split': 19, 'min_samples_leaf': 31}. Best is trial 121 with value: -3.5203232638156505.\n",
      "[I 2024-11-18 12:03:37,194] Trial 185 finished with value: -3.487093793853787 and parameters: {'n_estimators': 131, 'max_depth': 36, 'min_samples_split': 20, 'min_samples_leaf': 32}. Best is trial 121 with value: -3.5203232638156505.\n",
      "[I 2024-11-18 12:03:38,399] Trial 186 finished with value: -0.9783100278687178 and parameters: {'n_estimators': 135, 'max_depth': 38, 'min_samples_split': 20, 'min_samples_leaf': 6}. Best is trial 121 with value: -3.5203232638156505.\n",
      "[I 2024-11-18 12:03:39,353] Trial 187 finished with value: -3.2332043070452436 and parameters: {'n_estimators': 125, 'max_depth': 37, 'min_samples_split': 20, 'min_samples_leaf': 30}. Best is trial 121 with value: -3.5203232638156505.\n",
      "[I 2024-11-18 12:03:40,227] Trial 188 finished with value: -3.459414223193987 and parameters: {'n_estimators': 114, 'max_depth': 35, 'min_samples_split': 21, 'min_samples_leaf': 32}. Best is trial 121 with value: -3.5203232638156505.\n",
      "[I 2024-11-18 12:03:41,344] Trial 189 finished with value: -3.293143450511465 and parameters: {'n_estimators': 149, 'max_depth': 36, 'min_samples_split': 21, 'min_samples_leaf': 31}. Best is trial 121 with value: -3.5203232638156505.\n",
      "[I 2024-11-18 12:03:44,924] Trial 190 finished with value: -3.4275444954873313 and parameters: {'n_estimators': 538, 'max_depth': 39, 'min_samples_split': 22, 'min_samples_leaf': 32}. Best is trial 121 with value: -3.5203232638156505.\n",
      "[I 2024-11-18 12:03:48,303] Trial 191 finished with value: -3.442149871015345 and parameters: {'n_estimators': 508, 'max_depth': 35, 'min_samples_split': 18, 'min_samples_leaf': 32}. Best is trial 121 with value: -3.5203232638156505.\n",
      "[I 2024-11-18 12:03:49,252] Trial 192 finished with value: -3.481323820136711 and parameters: {'n_estimators': 120, 'max_depth': 49, 'min_samples_split': 19, 'min_samples_leaf': 32}. Best is trial 121 with value: -3.5203232638156505.\n",
      "[I 2024-11-18 12:03:50,149] Trial 193 finished with value: -3.3294566995548998 and parameters: {'n_estimators': 119, 'max_depth': 50, 'min_samples_split': 20, 'min_samples_leaf': 31}. Best is trial 121 with value: -3.5203232638156505.\n",
      "[I 2024-11-18 12:03:50,932] Trial 194 finished with value: -3.473737328350822 and parameters: {'n_estimators': 100, 'max_depth': 49, 'min_samples_split': 22, 'min_samples_leaf': 32}. Best is trial 121 with value: -3.5203232638156505.\n",
      "[I 2024-11-18 12:03:51,735] Trial 195 finished with value: -3.3273511192278407 and parameters: {'n_estimators': 103, 'max_depth': 47, 'min_samples_split': 23, 'min_samples_leaf': 31}. Best is trial 121 with value: -3.5203232638156505.\n",
      "[I 2024-11-18 12:03:52,665] Trial 196 finished with value: -2.360654926980083 and parameters: {'n_estimators': 100, 'max_depth': 48, 'min_samples_split': 21, 'min_samples_leaf': 20}. Best is trial 121 with value: -3.5203232638156505.\n",
      "[I 2024-11-18 12:03:53,756] Trial 197 finished with value: -3.4344095481591275 and parameters: {'n_estimators': 148, 'max_depth': 49, 'min_samples_split': 22, 'min_samples_leaf': 32}. Best is trial 121 with value: -3.5203232638156505.\n",
      "[I 2024-11-18 12:03:54,912] Trial 198 finished with value: -1.6739980945147686 and parameters: {'n_estimators': 134, 'max_depth': 33, 'min_samples_split': 23, 'min_samples_leaf': 10}. Best is trial 121 with value: -3.5203232638156505.\n",
      "[I 2024-11-18 12:03:56,315] Trial 199 finished with value: -3.4864061141330147 and parameters: {'n_estimators': 164, 'max_depth': 41, 'min_samples_split': 24, 'min_samples_leaf': 32}. Best is trial 121 with value: -3.5203232638156505.\n"
     ]
    }
   ],
   "source": [
    "study.optimize(objective, n_trials=200)"
   ]
  },
  {
   "cell_type": "code",
   "execution_count": 42,
   "metadata": {},
   "outputs": [
    {
     "data": {
      "text/plain": [
       "{'n_estimators': 101,\n",
       " 'max_depth': 10,\n",
       " 'min_samples_split': 22,\n",
       " 'min_samples_leaf': 32}"
      ]
     },
     "execution_count": 42,
     "metadata": {},
     "output_type": "execute_result"
    }
   ],
   "source": [
    "study.best_params"
   ]
  },
  {
   "cell_type": "code",
   "execution_count": 43,
   "metadata": {},
   "outputs": [],
   "source": [
    "best_params = study.best_params"
   ]
  },
  {
   "cell_type": "code",
   "execution_count": 50,
   "metadata": {},
   "outputs": [],
   "source": [
    "import matplotlib.pyplot as plt\n",
    "import plotly"
   ]
  },
  {
   "cell_type": "code",
   "execution_count": 53,
   "metadata": {},
   "outputs": [],
   "source": [
    "best_n_estimators = best_params['n_estimators']\n",
    "best_max_depth = best_params['max_depth']\n",
    "best_min_samples_split = best_params['min_samples_split']\n",
    "best_min_samples_leaf = best_params['min_samples_leaf']"
   ]
  },
  {
   "cell_type": "code",
   "execution_count": 54,
   "metadata": {},
   "outputs": [],
   "source": [
    "best_model = RandomForestRegressor(n_estimators=best_n_estimators, max_depth=best_max_depth, min_samples_split=best_min_samples_split,min_samples_leaf=best_min_samples_leaf)\n",
    "\n"
   ]
  },
  {
   "cell_type": "code",
   "execution_count": 55,
   "metadata": {},
   "outputs": [
    {
     "data": {
      "text/html": [
       "<style>#sk-container-id-2 {color: black;}#sk-container-id-2 pre{padding: 0;}#sk-container-id-2 div.sk-toggleable {background-color: white;}#sk-container-id-2 label.sk-toggleable__label {cursor: pointer;display: block;width: 100%;margin-bottom: 0;padding: 0.3em;box-sizing: border-box;text-align: center;}#sk-container-id-2 label.sk-toggleable__label-arrow:before {content: \"▸\";float: left;margin-right: 0.25em;color: #696969;}#sk-container-id-2 label.sk-toggleable__label-arrow:hover:before {color: black;}#sk-container-id-2 div.sk-estimator:hover label.sk-toggleable__label-arrow:before {color: black;}#sk-container-id-2 div.sk-toggleable__content {max-height: 0;max-width: 0;overflow: hidden;text-align: left;background-color: #f0f8ff;}#sk-container-id-2 div.sk-toggleable__content pre {margin: 0.2em;color: black;border-radius: 0.25em;background-color: #f0f8ff;}#sk-container-id-2 input.sk-toggleable__control:checked~div.sk-toggleable__content {max-height: 200px;max-width: 100%;overflow: auto;}#sk-container-id-2 input.sk-toggleable__control:checked~label.sk-toggleable__label-arrow:before {content: \"▾\";}#sk-container-id-2 div.sk-estimator input.sk-toggleable__control:checked~label.sk-toggleable__label {background-color: #d4ebff;}#sk-container-id-2 div.sk-label input.sk-toggleable__control:checked~label.sk-toggleable__label {background-color: #d4ebff;}#sk-container-id-2 input.sk-hidden--visually {border: 0;clip: rect(1px 1px 1px 1px);clip: rect(1px, 1px, 1px, 1px);height: 1px;margin: -1px;overflow: hidden;padding: 0;position: absolute;width: 1px;}#sk-container-id-2 div.sk-estimator {font-family: monospace;background-color: #f0f8ff;border: 1px dotted black;border-radius: 0.25em;box-sizing: border-box;margin-bottom: 0.5em;}#sk-container-id-2 div.sk-estimator:hover {background-color: #d4ebff;}#sk-container-id-2 div.sk-parallel-item::after {content: \"\";width: 100%;border-bottom: 1px solid gray;flex-grow: 1;}#sk-container-id-2 div.sk-label:hover label.sk-toggleable__label {background-color: #d4ebff;}#sk-container-id-2 div.sk-serial::before {content: \"\";position: absolute;border-left: 1px solid gray;box-sizing: border-box;top: 0;bottom: 0;left: 50%;z-index: 0;}#sk-container-id-2 div.sk-serial {display: flex;flex-direction: column;align-items: center;background-color: white;padding-right: 0.2em;padding-left: 0.2em;position: relative;}#sk-container-id-2 div.sk-item {position: relative;z-index: 1;}#sk-container-id-2 div.sk-parallel {display: flex;align-items: stretch;justify-content: center;background-color: white;position: relative;}#sk-container-id-2 div.sk-item::before, #sk-container-id-2 div.sk-parallel-item::before {content: \"\";position: absolute;border-left: 1px solid gray;box-sizing: border-box;top: 0;bottom: 0;left: 50%;z-index: -1;}#sk-container-id-2 div.sk-parallel-item {display: flex;flex-direction: column;z-index: 1;position: relative;background-color: white;}#sk-container-id-2 div.sk-parallel-item:first-child::after {align-self: flex-end;width: 50%;}#sk-container-id-2 div.sk-parallel-item:last-child::after {align-self: flex-start;width: 50%;}#sk-container-id-2 div.sk-parallel-item:only-child::after {width: 0;}#sk-container-id-2 div.sk-dashed-wrapped {border: 1px dashed gray;margin: 0 0.4em 0.5em 0.4em;box-sizing: border-box;padding-bottom: 0.4em;background-color: white;}#sk-container-id-2 div.sk-label label {font-family: monospace;font-weight: bold;display: inline-block;line-height: 1.2em;}#sk-container-id-2 div.sk-label-container {text-align: center;}#sk-container-id-2 div.sk-container {/* jupyter's `normalize.less` sets `[hidden] { display: none; }` but bootstrap.min.css set `[hidden] { display: none !important; }` so we also need the `!important` here to be able to override the default hidden behavior on the sphinx rendered scikit-learn.org. See: https://github.com/scikit-learn/scikit-learn/issues/21755 */display: inline-block !important;position: relative;}#sk-container-id-2 div.sk-text-repr-fallback {display: none;}</style><div id=\"sk-container-id-2\" class=\"sk-top-container\"><div class=\"sk-text-repr-fallback\"><pre>RandomForestRegressor(max_depth=10, min_samples_leaf=32, min_samples_split=22,\n",
       "                      n_estimators=101)</pre><b>In a Jupyter environment, please rerun this cell to show the HTML representation or trust the notebook. <br />On GitHub, the HTML representation is unable to render, please try loading this page with nbviewer.org.</b></div><div class=\"sk-container\" hidden><div class=\"sk-item\"><div class=\"sk-estimator sk-toggleable\"><input class=\"sk-toggleable__control sk-hidden--visually\" id=\"sk-estimator-id-2\" type=\"checkbox\" checked><label for=\"sk-estimator-id-2\" class=\"sk-toggleable__label sk-toggleable__label-arrow\">RandomForestRegressor</label><div class=\"sk-toggleable__content\"><pre>RandomForestRegressor(max_depth=10, min_samples_leaf=32, min_samples_split=22,\n",
       "                      n_estimators=101)</pre></div></div></div></div></div>"
      ],
      "text/plain": [
       "RandomForestRegressor(max_depth=10, min_samples_leaf=32, min_samples_split=22,\n",
       "                      n_estimators=101)"
      ]
     },
     "execution_count": 55,
     "metadata": {},
     "output_type": "execute_result"
    }
   ],
   "source": [
    "best_model.fit(x_train,y_train)"
   ]
  },
  {
   "cell_type": "code",
   "execution_count": 56,
   "metadata": {},
   "outputs": [],
   "source": [
    "y_pred2 = best_model.predict(x_test)"
   ]
  },
  {
   "cell_type": "code",
   "execution_count": 57,
   "metadata": {},
   "outputs": [
    {
     "data": {
      "text/plain": [
       "0.990218403745801"
      ]
     },
     "execution_count": 57,
     "metadata": {},
     "output_type": "execute_result"
    }
   ],
   "source": [
    "r2_score(y_test,y_pred)"
   ]
  }
 ],
 "metadata": {
  "kernelspec": {
   "display_name": "Python 3",
   "language": "python",
   "name": "python3"
  },
  "language_info": {
   "codemirror_mode": {
    "name": "ipython",
    "version": 3
   },
   "file_extension": ".py",
   "mimetype": "text/x-python",
   "name": "python",
   "nbconvert_exporter": "python",
   "pygments_lexer": "ipython3",
   "version": "3.8.0"
  }
 },
 "nbformat": 4,
 "nbformat_minor": 2
}
